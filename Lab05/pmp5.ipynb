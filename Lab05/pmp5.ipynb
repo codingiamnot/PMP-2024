{
  "nbformat": 4,
  "nbformat_minor": 0,
  "metadata": {
    "colab": {
      "provenance": [],
      "authorship_tag": "ABX9TyPzJ78njdEMW4GmI38nz3PU",
      "include_colab_link": true
    },
    "kernelspec": {
      "name": "python3",
      "display_name": "Python 3"
    },
    "language_info": {
      "name": "python"
    }
  },
  "cells": [
    {
      "cell_type": "markdown",
      "metadata": {
        "id": "view-in-github",
        "colab_type": "text"
      },
      "source": [
        "<a href=\"https://colab.research.google.com/github/codingiamnot/PMP-2024/blob/main/Lab05/pmp5.ipynb\" target=\"_parent\"><img src=\"https://colab.research.google.com/assets/colab-badge.svg\" alt=\"Open In Colab\"/></a>"
      ]
    },
    {
      "cell_type": "code",
      "execution_count": 2,
      "metadata": {
        "colab": {
          "base_uri": "https://localhost:8080/"
        },
        "id": "6Ns90c3WD52S",
        "outputId": "7bfaedc8-5ce2-4035-fb57-f3b3054c642c"
      },
      "outputs": [
        {
          "output_type": "stream",
          "name": "stdout",
          "text": [
            "Collecting hmmlearn\n",
            "  Downloading hmmlearn-0.3.2-cp310-cp310-manylinux_2_17_x86_64.manylinux2014_x86_64.whl.metadata (2.9 kB)\n",
            "Requirement already satisfied: numpy>=1.10 in /usr/local/lib/python3.10/dist-packages (from hmmlearn) (1.26.4)\n",
            "Requirement already satisfied: scikit-learn!=0.22.0,>=0.16 in /usr/local/lib/python3.10/dist-packages (from hmmlearn) (1.5.2)\n",
            "Requirement already satisfied: scipy>=0.19 in /usr/local/lib/python3.10/dist-packages (from hmmlearn) (1.13.1)\n",
            "Requirement already satisfied: joblib>=1.2.0 in /usr/local/lib/python3.10/dist-packages (from scikit-learn!=0.22.0,>=0.16->hmmlearn) (1.4.2)\n",
            "Requirement already satisfied: threadpoolctl>=3.1.0 in /usr/local/lib/python3.10/dist-packages (from scikit-learn!=0.22.0,>=0.16->hmmlearn) (3.5.0)\n",
            "Downloading hmmlearn-0.3.2-cp310-cp310-manylinux_2_17_x86_64.manylinux2014_x86_64.whl (161 kB)\n",
            "\u001b[?25l   \u001b[90m━━━━━━━━━━━━━━━━━━━━━━━━━━━━━━━━━━━━━━━━\u001b[0m \u001b[32m0.0/161.1 kB\u001b[0m \u001b[31m?\u001b[0m eta \u001b[36m-:--:--\u001b[0m\r\u001b[2K   \u001b[91m━━━━━━━━━━━━━━━━━━━━━━━━━━━━━━━━━━━━━━\u001b[0m\u001b[90m╺\u001b[0m\u001b[90m━\u001b[0m \u001b[32m153.6/161.1 kB\u001b[0m \u001b[31m5.3 MB/s\u001b[0m eta \u001b[36m0:00:01\u001b[0m\r\u001b[2K   \u001b[90m━━━━━━━━━━━━━━━━━━━━━━━━━━━━━━━━━━━━━━━━\u001b[0m \u001b[32m161.1/161.1 kB\u001b[0m \u001b[31m3.4 MB/s\u001b[0m eta \u001b[36m0:00:00\u001b[0m\n",
            "\u001b[?25hInstalling collected packages: hmmlearn\n",
            "Successfully installed hmmlearn-0.3.2\n"
          ]
        }
      ],
      "source": [
        "%pip install hmmlearn\n",
        "import numpy as np\n",
        "import matplotlib.pyplot as plt\n",
        "import seaborn as sns\n",
        "from hmmlearn import hmm"
      ]
    },
    {
      "cell_type": "code",
      "source": [
        "states = [\"Hard\", \"Medium\", \"Easy\"]\n",
        "observations = [\"FB\", \"B\", \"S\", \"NS\"]\n",
        "\n",
        "starting_prob = np.array([1/3, 1/3, 1/3])\n",
        "\n",
        "transition_probability = np.array([[0., 0.5, 0.5],\n",
        "                                   [0.5, 0.25, 0.25],\n",
        "                                   [0.5, 0.25, 0.25]])\n",
        "\n",
        "emission_probability= np.array([[0.1, 0.2, 0.4, 0.3],\n",
        "                                [0.15, 0.25, 0.5, 0.1],\n",
        "                                [0.2, 0.3, 0.4, 0.1]])\n",
        "\n",
        "\n",
        "model = hmm.CategoricalHMM(n_components=3)\n",
        "model.startprob_ = starting_prob\n",
        "model.transmat_ = transition_probability\n",
        "model.emissionprob_ = emission_probability\n",
        "\n"
      ],
      "metadata": {
        "id": "YwILR7U3EXkS"
      },
      "execution_count": 3,
      "outputs": []
    },
    {
      "cell_type": "code",
      "source": [
        "import graphviz\n",
        "from PIL import Image\n",
        "\n",
        "def visualize_hmm(model):\n",
        "    dot = graphviz.Digraph(comment='Hidden Markov Model')\n",
        "\n",
        "    for i in range(model.n_components):\n",
        "        dot.node(str(i), f'State {i}')\n",
        "\n",
        "    for i in range(model.n_components):\n",
        "        for j in range(model.n_components):\n",
        "              dot.edge(str(i), str(j), label=f'{model.transmat_[i, j]:.2f}')\n",
        "\n",
        "    for i in range(model.n_components):\n",
        "        for j in range(model.n_features):\n",
        "            dot.node(f'e{i}_{j}', f'E{i},{j}', shape='rectangle', style='filled', fillcolor='lightblue')\n",
        "            dot.edge(str(i), f'e{i}_{j}', label=f'{model.emissionprob_[i, j]:.2f}')\n",
        "\n",
        "    return dot\n",
        "\n",
        "\n",
        "hmm_graph = visualize_hmm(model)\n",
        "hmm_graph"
      ],
      "metadata": {
        "colab": {
          "base_uri": "https://localhost:8080/",
          "height": 448
        },
        "id": "_X34m17wUe3s",
        "outputId": "95489c5c-02ba-4c07-9b4e-17f44c057737"
      },
      "execution_count": 21,
      "outputs": [
        {
          "output_type": "execute_result",
          "data": {
            "image/svg+xml": "<?xml version=\"1.0\" encoding=\"UTF-8\" standalone=\"no\"?>\n<!DOCTYPE svg PUBLIC \"-//W3C//DTD SVG 1.1//EN\"\n \"http://www.w3.org/Graphics/SVG/1.1/DTD/svg11.dtd\">\n<!-- Generated by graphviz version 2.43.0 (0)\n -->\n<!-- Title: %3 Pages: 1 -->\n<svg width=\"614pt\" height=\"305pt\"\n viewBox=\"0.00 0.00 614.00 305.00\" xmlns=\"http://www.w3.org/2000/svg\" xmlns:xlink=\"http://www.w3.org/1999/xlink\">\n<g id=\"graph0\" class=\"graph\" transform=\"scale(1 1) rotate(0) translate(4 301)\">\n<title>%3</title>\n<polygon fill=\"white\" stroke=\"transparent\" points=\"-4,4 -4,-301 610,-301 610,4 -4,4\"/>\n<!-- 0 -->\n<g id=\"node1\" class=\"node\">\n<title>0</title>\n<ellipse fill=\"none\" stroke=\"black\" cx=\"339\" cy=\"-279\" rx=\"35.19\" ry=\"18\"/>\n<text text-anchor=\"middle\" x=\"339\" y=\"-275.3\" font-family=\"Times,serif\" font-size=\"14.00\">State 0</text>\n</g>\n<!-- 0&#45;&gt;0 -->\n<g id=\"edge1\" class=\"edge\">\n<title>0&#45;&gt;0</title>\n<path fill=\"none\" stroke=\"black\" d=\"M370.62,-286.86C382.4,-287.12 392.1,-284.5 392.1,-279 392.1,-275.22 387.51,-272.8 380.82,-271.74\"/>\n<polygon fill=\"black\" stroke=\"black\" points=\"380.8,-268.24 370.62,-271.14 380.39,-275.22 380.8,-268.24\"/>\n<text text-anchor=\"middle\" x=\"404.6\" y=\"-275.3\" font-family=\"Times,serif\" font-size=\"14.00\">0.00</text>\n</g>\n<!-- 1 -->\n<g id=\"node2\" class=\"node\">\n<title>1</title>\n<ellipse fill=\"none\" stroke=\"black\" cx=\"240\" cy=\"-192\" rx=\"35.19\" ry=\"18\"/>\n<text text-anchor=\"middle\" x=\"240\" y=\"-188.3\" font-family=\"Times,serif\" font-size=\"14.00\">State 1</text>\n</g>\n<!-- 0&#45;&gt;1 -->\n<g id=\"edge2\" class=\"edge\">\n<title>0&#45;&gt;1</title>\n<path fill=\"none\" stroke=\"black\" d=\"M308.04,-270.05C292.26,-264.65 273.75,-256.06 261,-243 254.73,-236.58 250.22,-228.02 247.03,-219.79\"/>\n<polygon fill=\"black\" stroke=\"black\" points=\"250.27,-218.45 243.76,-210.09 243.64,-220.69 250.27,-218.45\"/>\n<text text-anchor=\"middle\" x=\"273.5\" y=\"-231.8\" font-family=\"Times,serif\" font-size=\"14.00\">0.50</text>\n</g>\n<!-- 2 -->\n<g id=\"node3\" class=\"node\">\n<title>2</title>\n<ellipse fill=\"none\" stroke=\"black\" cx=\"135\" cy=\"-105\" rx=\"35.19\" ry=\"18\"/>\n<text text-anchor=\"middle\" x=\"135\" y=\"-101.3\" font-family=\"Times,serif\" font-size=\"14.00\">State 2</text>\n</g>\n<!-- 0&#45;&gt;2 -->\n<g id=\"edge3\" class=\"edge\">\n<title>0&#45;&gt;2</title>\n<path fill=\"none\" stroke=\"black\" d=\"M303.74,-278.86C258.85,-278.55 180.05,-273.17 121,-243 90.73,-227.54 77.88,-206.45 88,-174 93.1,-157.64 103.68,-141.74 113.5,-129.44\"/>\n<polygon fill=\"black\" stroke=\"black\" points=\"116.38,-131.45 120.11,-121.53 111.01,-126.96 116.38,-131.45\"/>\n<text text-anchor=\"middle\" x=\"100.5\" y=\"-188.3\" font-family=\"Times,serif\" font-size=\"14.00\">0.50</text>\n</g>\n<!-- e0_0 -->\n<g id=\"node4\" class=\"node\">\n<title>e0_0</title>\n<polygon fill=\"lightblue\" stroke=\"black\" points=\"390,-210 336,-210 336,-174 390,-174 390,-210\"/>\n<text text-anchor=\"middle\" x=\"363\" y=\"-188.3\" font-family=\"Times,serif\" font-size=\"14.00\">E0,0</text>\n</g>\n<!-- 0&#45;&gt;e0_0 -->\n<g id=\"edge10\" class=\"edge\">\n<title>0&#45;&gt;e0_0</title>\n<path fill=\"none\" stroke=\"black\" d=\"M343.86,-260.8C347.17,-249.05 351.64,-233.24 355.42,-219.84\"/>\n<polygon fill=\"black\" stroke=\"black\" points=\"358.8,-220.75 358.15,-210.18 352.06,-218.85 358.8,-220.75\"/>\n<text text-anchor=\"middle\" x=\"364.5\" y=\"-231.8\" font-family=\"Times,serif\" font-size=\"14.00\">0.10</text>\n</g>\n<!-- e0_1 -->\n<g id=\"node5\" class=\"node\">\n<title>e0_1</title>\n<polygon fill=\"lightblue\" stroke=\"black\" points=\"462,-210 408,-210 408,-174 462,-174 462,-210\"/>\n<text text-anchor=\"middle\" x=\"435\" y=\"-188.3\" font-family=\"Times,serif\" font-size=\"14.00\">E0,1</text>\n</g>\n<!-- 0&#45;&gt;e0_1 -->\n<g id=\"edge11\" class=\"edge\">\n<title>0&#45;&gt;e0_1</title>\n<path fill=\"none\" stroke=\"black\" d=\"M357.16,-263.22C364.62,-257.05 373.3,-249.77 381,-243 390.35,-234.78 400.41,-225.57 409.28,-217.32\"/>\n<polygon fill=\"black\" stroke=\"black\" points=\"411.81,-219.75 416.72,-210.37 407.03,-214.64 411.81,-219.75\"/>\n<text text-anchor=\"middle\" x=\"409.5\" y=\"-231.8\" font-family=\"Times,serif\" font-size=\"14.00\">0.20</text>\n</g>\n<!-- e0_2 -->\n<g id=\"node6\" class=\"node\">\n<title>e0_2</title>\n<polygon fill=\"lightblue\" stroke=\"black\" points=\"534,-210 480,-210 480,-174 534,-174 534,-210\"/>\n<text text-anchor=\"middle\" x=\"507\" y=\"-188.3\" font-family=\"Times,serif\" font-size=\"14.00\">E0,2</text>\n</g>\n<!-- 0&#45;&gt;e0_2 -->\n<g id=\"edge12\" class=\"edge\">\n<title>0&#45;&gt;e0_2</title>\n<path fill=\"none\" stroke=\"black\" d=\"M367.35,-267.99C384.63,-261.56 406.96,-252.62 426,-243 442,-234.92 458.99,-224.71 473.25,-215.62\"/>\n<polygon fill=\"black\" stroke=\"black\" points=\"475.24,-218.5 481.74,-210.14 471.44,-212.62 475.24,-218.5\"/>\n<text text-anchor=\"middle\" x=\"463.5\" y=\"-231.8\" font-family=\"Times,serif\" font-size=\"14.00\">0.40</text>\n</g>\n<!-- e0_3 -->\n<g id=\"node7\" class=\"node\">\n<title>e0_3</title>\n<polygon fill=\"lightblue\" stroke=\"black\" points=\"606,-210 552,-210 552,-174 606,-174 606,-210\"/>\n<text text-anchor=\"middle\" x=\"579\" y=\"-188.3\" font-family=\"Times,serif\" font-size=\"14.00\">E0,3</text>\n</g>\n<!-- 0&#45;&gt;e0_3 -->\n<g id=\"edge13\" class=\"edge\">\n<title>0&#45;&gt;e0_3</title>\n<path fill=\"none\" stroke=\"black\" d=\"M371.54,-272.08C400.52,-266.31 443.82,-256.43 480,-243 501.46,-235.03 524.35,-223.68 542.7,-213.8\"/>\n<polygon fill=\"black\" stroke=\"black\" points=\"544.49,-216.81 551.59,-208.95 541.13,-210.67 544.49,-216.81\"/>\n<text text-anchor=\"middle\" x=\"525.5\" y=\"-231.8\" font-family=\"Times,serif\" font-size=\"14.00\">0.30</text>\n</g>\n<!-- 1&#45;&gt;0 -->\n<g id=\"edge4\" class=\"edge\">\n<title>1&#45;&gt;0</title>\n<path fill=\"none\" stroke=\"black\" d=\"M259.6,-207.2C267.9,-213.39 277.58,-220.86 286,-228 296.25,-236.69 307.12,-246.78 316.33,-255.61\"/>\n<polygon fill=\"black\" stroke=\"black\" points=\"314.01,-258.24 323.63,-262.68 318.88,-253.21 314.01,-258.24\"/>\n<text text-anchor=\"middle\" x=\"314.5\" y=\"-231.8\" font-family=\"Times,serif\" font-size=\"14.00\">0.50</text>\n</g>\n<!-- 1&#45;&gt;1 -->\n<g id=\"edge5\" class=\"edge\">\n<title>1&#45;&gt;1</title>\n<path fill=\"none\" stroke=\"black\" d=\"M271.62,-199.86C283.4,-200.12 293.1,-197.5 293.1,-192 293.1,-188.22 288.51,-185.8 281.82,-184.74\"/>\n<polygon fill=\"black\" stroke=\"black\" points=\"281.8,-181.24 271.62,-184.14 281.39,-188.22 281.8,-181.24\"/>\n<text text-anchor=\"middle\" x=\"305.6\" y=\"-188.3\" font-family=\"Times,serif\" font-size=\"14.00\">0.25</text>\n</g>\n<!-- 1&#45;&gt;2 -->\n<g id=\"edge6\" class=\"edge\">\n<title>1&#45;&gt;2</title>\n<path fill=\"none\" stroke=\"black\" d=\"M211.71,-181.02C197.82,-175.19 181.44,-166.82 169,-156 161.12,-149.15 154.23,-140.07 148.76,-131.54\"/>\n<polygon fill=\"black\" stroke=\"black\" points=\"151.74,-129.71 143.57,-122.95 145.74,-133.32 151.74,-129.71\"/>\n<text text-anchor=\"middle\" x=\"181.5\" y=\"-144.8\" font-family=\"Times,serif\" font-size=\"14.00\">0.25</text>\n</g>\n<!-- e1_0 -->\n<g id=\"node8\" class=\"node\">\n<title>e1_0</title>\n<polygon fill=\"lightblue\" stroke=\"black\" points=\"285,-123 231,-123 231,-87 285,-87 285,-123\"/>\n<text text-anchor=\"middle\" x=\"258\" y=\"-101.3\" font-family=\"Times,serif\" font-size=\"14.00\">E1,0</text>\n</g>\n<!-- 1&#45;&gt;e1_0 -->\n<g id=\"edge14\" class=\"edge\">\n<title>1&#45;&gt;e1_0</title>\n<path fill=\"none\" stroke=\"black\" d=\"M243.64,-173.8C246.11,-162.16 249.41,-146.55 252.23,-133.24\"/>\n<polygon fill=\"black\" stroke=\"black\" points=\"255.72,-133.68 254.36,-123.18 248.87,-132.23 255.72,-133.68\"/>\n<text text-anchor=\"middle\" x=\"263.5\" y=\"-144.8\" font-family=\"Times,serif\" font-size=\"14.00\">0.15</text>\n</g>\n<!-- e1_1 -->\n<g id=\"node9\" class=\"node\">\n<title>e1_1</title>\n<polygon fill=\"lightblue\" stroke=\"black\" points=\"357,-123 303,-123 303,-87 357,-87 357,-123\"/>\n<text text-anchor=\"middle\" x=\"330\" y=\"-101.3\" font-family=\"Times,serif\" font-size=\"14.00\">E1,1</text>\n</g>\n<!-- 1&#45;&gt;e1_1 -->\n<g id=\"edge15\" class=\"edge\">\n<title>1&#45;&gt;e1_1</title>\n<path fill=\"none\" stroke=\"black\" d=\"M257.35,-176.26C264.47,-170.1 272.72,-162.81 280,-156 288.65,-147.91 297.88,-138.82 306.02,-130.62\"/>\n<polygon fill=\"black\" stroke=\"black\" points=\"308.61,-132.98 313.15,-123.41 303.63,-128.06 308.61,-132.98\"/>\n<text text-anchor=\"middle\" x=\"307.5\" y=\"-144.8\" font-family=\"Times,serif\" font-size=\"14.00\">0.25</text>\n</g>\n<!-- e1_2 -->\n<g id=\"node10\" class=\"node\">\n<title>e1_2</title>\n<polygon fill=\"lightblue\" stroke=\"black\" points=\"429,-123 375,-123 375,-87 429,-87 429,-123\"/>\n<text text-anchor=\"middle\" x=\"402\" y=\"-101.3\" font-family=\"Times,serif\" font-size=\"14.00\">E1,2</text>\n</g>\n<!-- 1&#45;&gt;e1_2 -->\n<g id=\"edge16\" class=\"edge\">\n<title>1&#45;&gt;e1_2</title>\n<path fill=\"none\" stroke=\"black\" d=\"M267.79,-180.83C284.43,-174.4 305.81,-165.53 324,-156 339.31,-147.98 355.51,-137.88 369.16,-128.87\"/>\n<polygon fill=\"black\" stroke=\"black\" points=\"371.36,-131.6 377.72,-123.13 367.47,-125.79 371.36,-131.6\"/>\n<text text-anchor=\"middle\" x=\"360.5\" y=\"-144.8\" font-family=\"Times,serif\" font-size=\"14.00\">0.50</text>\n</g>\n<!-- e1_3 -->\n<g id=\"node11\" class=\"node\">\n<title>e1_3</title>\n<polygon fill=\"lightblue\" stroke=\"black\" points=\"501,-123 447,-123 447,-87 501,-87 501,-123\"/>\n<text text-anchor=\"middle\" x=\"474\" y=\"-101.3\" font-family=\"Times,serif\" font-size=\"14.00\">E1,3</text>\n</g>\n<!-- 1&#45;&gt;e1_3 -->\n<g id=\"edge17\" class=\"edge\">\n<title>1&#45;&gt;e1_3</title>\n<path fill=\"none\" stroke=\"black\" d=\"M272.47,-184.87C300.64,-179.04 342.23,-169.21 377,-156 397.81,-148.09 419.96,-136.91 437.83,-127.12\"/>\n<polygon fill=\"black\" stroke=\"black\" points=\"439.71,-130.08 446.75,-122.16 436.31,-123.96 439.71,-130.08\"/>\n<text text-anchor=\"middle\" x=\"421.5\" y=\"-144.8\" font-family=\"Times,serif\" font-size=\"14.00\">0.10</text>\n</g>\n<!-- 2&#45;&gt;0 -->\n<g id=\"edge7\" class=\"edge\">\n<title>2&#45;&gt;0</title>\n<path fill=\"none\" stroke=\"black\" d=\"M136.69,-123.3C139.76,-145.92 148.21,-185.53 171,-210 203.83,-245.26 257.48,-262.67 295.31,-270.96\"/>\n<polygon fill=\"black\" stroke=\"black\" points=\"295.02,-274.48 305.53,-273.07 296.44,-267.62 295.02,-274.48\"/>\n<text text-anchor=\"middle\" x=\"183.5\" y=\"-188.3\" font-family=\"Times,serif\" font-size=\"14.00\">0.50</text>\n</g>\n<!-- 2&#45;&gt;1 -->\n<g id=\"edge8\" class=\"edge\">\n<title>2&#45;&gt;1</title>\n<path fill=\"none\" stroke=\"black\" d=\"M159.01,-118.15C170.15,-124.3 183.27,-132.3 194,-141 203.54,-148.73 212.93,-158.45 220.71,-167.25\"/>\n<polygon fill=\"black\" stroke=\"black\" points=\"218.2,-169.69 227.37,-175 223.51,-165.13 218.2,-169.69\"/>\n<text text-anchor=\"middle\" x=\"222.5\" y=\"-144.8\" font-family=\"Times,serif\" font-size=\"14.00\">0.25</text>\n</g>\n<!-- 2&#45;&gt;2 -->\n<g id=\"edge9\" class=\"edge\">\n<title>2&#45;&gt;2</title>\n<path fill=\"none\" stroke=\"black\" d=\"M166.62,-112.86C178.4,-113.12 188.1,-110.5 188.1,-105 188.1,-101.22 183.51,-98.8 176.82,-97.74\"/>\n<polygon fill=\"black\" stroke=\"black\" points=\"176.8,-94.24 166.62,-97.14 176.39,-101.22 176.8,-94.24\"/>\n<text text-anchor=\"middle\" x=\"200.6\" y=\"-101.3\" font-family=\"Times,serif\" font-size=\"14.00\">0.25</text>\n</g>\n<!-- e2_0 -->\n<g id=\"node12\" class=\"node\">\n<title>e2_0</title>\n<polygon fill=\"lightblue\" stroke=\"black\" points=\"54,-36 0,-36 0,0 54,0 54,-36\"/>\n<text text-anchor=\"middle\" x=\"27\" y=\"-14.3\" font-family=\"Times,serif\" font-size=\"14.00\">E2,0</text>\n</g>\n<!-- 2&#45;&gt;e2_0 -->\n<g id=\"edge18\" class=\"edge\">\n<title>2&#45;&gt;e2_0</title>\n<path fill=\"none\" stroke=\"black\" d=\"M114.7,-90.06C105.77,-83.79 95.24,-76.19 86,-69 75.3,-60.67 63.86,-51.13 53.93,-42.63\"/>\n<polygon fill=\"black\" stroke=\"black\" points=\"56.19,-39.96 46.33,-36.08 51.62,-45.26 56.19,-39.96\"/>\n<text text-anchor=\"middle\" x=\"98.5\" y=\"-57.8\" font-family=\"Times,serif\" font-size=\"14.00\">0.20</text>\n</g>\n<!-- e2_1 -->\n<g id=\"node13\" class=\"node\">\n<title>e2_1</title>\n<polygon fill=\"lightblue\" stroke=\"black\" points=\"126,-36 72,-36 72,0 126,0 126,-36\"/>\n<text text-anchor=\"middle\" x=\"99\" y=\"-14.3\" font-family=\"Times,serif\" font-size=\"14.00\">E2,1</text>\n</g>\n<!-- 2&#45;&gt;e2_1 -->\n<g id=\"edge19\" class=\"edge\">\n<title>2&#45;&gt;e2_1</title>\n<path fill=\"none\" stroke=\"black\" d=\"M127.89,-87.21C122.84,-75.29 115.97,-59.06 110.19,-45.42\"/>\n<polygon fill=\"black\" stroke=\"black\" points=\"113.34,-43.89 106.22,-36.05 106.9,-46.62 113.34,-43.89\"/>\n<text text-anchor=\"middle\" x=\"132.5\" y=\"-57.8\" font-family=\"Times,serif\" font-size=\"14.00\">0.30</text>\n</g>\n<!-- e2_2 -->\n<g id=\"node14\" class=\"node\">\n<title>e2_2</title>\n<polygon fill=\"lightblue\" stroke=\"black\" points=\"198,-36 144,-36 144,0 198,0 198,-36\"/>\n<text text-anchor=\"middle\" x=\"171\" y=\"-14.3\" font-family=\"Times,serif\" font-size=\"14.00\">E2,2</text>\n</g>\n<!-- 2&#45;&gt;e2_2 -->\n<g id=\"edge20\" class=\"edge\">\n<title>2&#45;&gt;e2_2</title>\n<path fill=\"none\" stroke=\"black\" d=\"M142.11,-87.21C147.16,-75.29 154.03,-59.06 159.81,-45.42\"/>\n<polygon fill=\"black\" stroke=\"black\" points=\"163.1,-46.62 163.78,-36.05 156.66,-43.89 163.1,-46.62\"/>\n<text text-anchor=\"middle\" x=\"168.5\" y=\"-57.8\" font-family=\"Times,serif\" font-size=\"14.00\">0.40</text>\n</g>\n<!-- e2_3 -->\n<g id=\"node15\" class=\"node\">\n<title>e2_3</title>\n<polygon fill=\"lightblue\" stroke=\"black\" points=\"270,-36 216,-36 216,0 270,0 270,-36\"/>\n<text text-anchor=\"middle\" x=\"243\" y=\"-14.3\" font-family=\"Times,serif\" font-size=\"14.00\">E2,3</text>\n</g>\n<!-- 2&#45;&gt;e2_3 -->\n<g id=\"edge21\" class=\"edge\">\n<title>2&#45;&gt;e2_3</title>\n<path fill=\"none\" stroke=\"black\" d=\"M155.77,-90.15C164.89,-83.9 175.63,-76.29 185,-69 195.49,-60.84 206.64,-51.42 216.33,-42.98\"/>\n<polygon fill=\"black\" stroke=\"black\" points=\"218.88,-45.4 224.07,-36.16 214.25,-40.14 218.88,-45.4\"/>\n<text text-anchor=\"middle\" x=\"215.5\" y=\"-57.8\" font-family=\"Times,serif\" font-size=\"14.00\">0.10</text>\n</g>\n</g>\n</svg>\n",
            "text/plain": [
              "<graphviz.graphs.Digraph at 0x7a9c4ef1a050>"
            ]
          },
          "metadata": {},
          "execution_count": 21
        }
      ]
    },
    {
      "cell_type": "code",
      "source": [
        "import math\n",
        "\n",
        "observations_sequence = np.array([0, 0, 2, 1, 1, 3, 1, 1, 2])\n",
        "observations_sequence = observations_sequence.reshape(1, -1)\n",
        "\n",
        "log_probability, hidden_states = model.decode(observations_sequence,\n",
        "                                              lengths = len(observations_sequence),\n",
        "                                              algorithm ='viterbi' )\n",
        "\n",
        "\n",
        "print(math.exp(log_probability), hidden_states)"
      ],
      "metadata": {
        "colab": {
          "base_uri": "https://localhost:8080/"
        },
        "id": "alasYHsLSzNt",
        "outputId": "4a55819a-a292-4dc6-f3bb-8f7b53c02401"
      },
      "execution_count": 14,
      "outputs": [
        {
          "output_type": "stream",
          "name": "stdout",
          "text": [
            "7.03125000000002e-09 [2 0 1 0 2 0 2 0 1]\n"
          ]
        }
      ]
    }
  ]
}