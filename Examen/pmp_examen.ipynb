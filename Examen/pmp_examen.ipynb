{
  "nbformat": 4,
  "nbformat_minor": 0,
  "metadata": {
    "colab": {
      "provenance": [],
      "authorship_tag": "ABX9TyNeOB/Kh+71659ZrpKxuhve",
      "include_colab_link": true
    },
    "kernelspec": {
      "name": "python3",
      "display_name": "Python 3"
    },
    "language_info": {
      "name": "python"
    },
    "widgets": {
      "application/vnd.jupyter.widget-state+json": {
        "e59c8f7e0ade4a08bbfb9caf38c26c76": {
          "model_module": "@jupyter-widgets/output",
          "model_name": "OutputModel",
          "model_module_version": "1.0.0",
          "state": {
            "_dom_classes": [],
            "_model_module": "@jupyter-widgets/output",
            "_model_module_version": "1.0.0",
            "_model_name": "OutputModel",
            "_view_count": null,
            "_view_module": "@jupyter-widgets/output",
            "_view_module_version": "1.0.0",
            "_view_name": "OutputView",
            "layout": "IPY_MODEL_e3be2458cfe546e592ea40a97d85be1e",
            "msg_id": "",
            "outputs": [
              {
                "output_type": "display_data",
                "data": {
                  "text/plain": "Sampling chain 0, 0 divergences \u001b[32m━━━━━━━━━━━━━━━━━━━━━━━━━━━━━━━━━━━━━━━━\u001b[0m \u001b[35m100%\u001b[0m \u001b[36m0:00:00\u001b[0m / \u001b[33m0:00:19\u001b[0m\n",
                  "text/html": "<pre style=\"white-space:pre;overflow-x:auto;line-height:normal;font-family:Menlo,'DejaVu Sans Mono',consolas,'Courier New',monospace\">Sampling chain 0, 0 divergences <span style=\"color: #008000; text-decoration-color: #008000\">━━━━━━━━━━━━━━━━━━━━━━━━━━━━━━━━━━━━━━━━</span> <span style=\"color: #800080; text-decoration-color: #800080\">100%</span> <span style=\"color: #008080; text-decoration-color: #008080\">0:00:00</span> / <span style=\"color: #808000; text-decoration-color: #808000\">0:00:19</span>\n</pre>\n"
                },
                "metadata": {}
              }
            ]
          }
        },
        "e3be2458cfe546e592ea40a97d85be1e": {
          "model_module": "@jupyter-widgets/base",
          "model_name": "LayoutModel",
          "model_module_version": "1.2.0",
          "state": {
            "_model_module": "@jupyter-widgets/base",
            "_model_module_version": "1.2.0",
            "_model_name": "LayoutModel",
            "_view_count": null,
            "_view_module": "@jupyter-widgets/base",
            "_view_module_version": "1.2.0",
            "_view_name": "LayoutView",
            "align_content": null,
            "align_items": null,
            "align_self": null,
            "border": null,
            "bottom": null,
            "display": null,
            "flex": null,
            "flex_flow": null,
            "grid_area": null,
            "grid_auto_columns": null,
            "grid_auto_flow": null,
            "grid_auto_rows": null,
            "grid_column": null,
            "grid_gap": null,
            "grid_row": null,
            "grid_template_areas": null,
            "grid_template_columns": null,
            "grid_template_rows": null,
            "height": null,
            "justify_content": null,
            "justify_items": null,
            "left": null,
            "margin": null,
            "max_height": null,
            "max_width": null,
            "min_height": null,
            "min_width": null,
            "object_fit": null,
            "object_position": null,
            "order": null,
            "overflow": null,
            "overflow_x": null,
            "overflow_y": null,
            "padding": null,
            "right": null,
            "top": null,
            "visibility": null,
            "width": null
          }
        },
        "f62fb01644784e3dbff6cf61ae6a06ea": {
          "model_module": "@jupyter-widgets/output",
          "model_name": "OutputModel",
          "model_module_version": "1.0.0",
          "state": {
            "_dom_classes": [],
            "_model_module": "@jupyter-widgets/output",
            "_model_module_version": "1.0.0",
            "_model_name": "OutputModel",
            "_view_count": null,
            "_view_module": "@jupyter-widgets/output",
            "_view_module_version": "1.0.0",
            "_view_name": "OutputView",
            "layout": "IPY_MODEL_c718c9438a4a4a6cadb0a5e284faa61a",
            "msg_id": "",
            "outputs": [
              {
                "output_type": "display_data",
                "data": {
                  "text/plain": "Sampling chain 1, 1,999 divergences \u001b[32m━━━━━━━━━━━━━━━━━━━━━━━━━━━━━━━━━━━━━━━━\u001b[0m \u001b[35m100%\u001b[0m \u001b[36m0:00:00\u001b[0m / \u001b[33m0:00:01\u001b[0m\n",
                  "text/html": "<pre style=\"white-space:pre;overflow-x:auto;line-height:normal;font-family:Menlo,'DejaVu Sans Mono',consolas,'Courier New',monospace\">Sampling chain 1, 1,999 divergences <span style=\"color: #008000; text-decoration-color: #008000\">━━━━━━━━━━━━━━━━━━━━━━━━━━━━━━━━━━━━━━━━</span> <span style=\"color: #800080; text-decoration-color: #800080\">100%</span> <span style=\"color: #008080; text-decoration-color: #008080\">0:00:00</span> / <span style=\"color: #808000; text-decoration-color: #808000\">0:00:01</span>\n</pre>\n"
                },
                "metadata": {}
              }
            ]
          }
        },
        "c718c9438a4a4a6cadb0a5e284faa61a": {
          "model_module": "@jupyter-widgets/base",
          "model_name": "LayoutModel",
          "model_module_version": "1.2.0",
          "state": {
            "_model_module": "@jupyter-widgets/base",
            "_model_module_version": "1.2.0",
            "_model_name": "LayoutModel",
            "_view_count": null,
            "_view_module": "@jupyter-widgets/base",
            "_view_module_version": "1.2.0",
            "_view_name": "LayoutView",
            "align_content": null,
            "align_items": null,
            "align_self": null,
            "border": null,
            "bottom": null,
            "display": null,
            "flex": null,
            "flex_flow": null,
            "grid_area": null,
            "grid_auto_columns": null,
            "grid_auto_flow": null,
            "grid_auto_rows": null,
            "grid_column": null,
            "grid_gap": null,
            "grid_row": null,
            "grid_template_areas": null,
            "grid_template_columns": null,
            "grid_template_rows": null,
            "height": null,
            "justify_content": null,
            "justify_items": null,
            "left": null,
            "margin": null,
            "max_height": null,
            "max_width": null,
            "min_height": null,
            "min_width": null,
            "object_fit": null,
            "object_position": null,
            "order": null,
            "overflow": null,
            "overflow_x": null,
            "overflow_y": null,
            "padding": null,
            "right": null,
            "top": null,
            "visibility": null,
            "width": null
          }
        },
        "c8b9bfaf795c48ba9db500c0f95a702a": {
          "model_module": "@jupyter-widgets/output",
          "model_name": "OutputModel",
          "model_module_version": "1.0.0",
          "state": {
            "_dom_classes": [],
            "_model_module": "@jupyter-widgets/output",
            "_model_module_version": "1.0.0",
            "_model_name": "OutputModel",
            "_view_count": null,
            "_view_module": "@jupyter-widgets/output",
            "_view_module_version": "1.0.0",
            "_view_name": "OutputView",
            "layout": "IPY_MODEL_d701408073a041ea87963d464afcacf7",
            "msg_id": "",
            "outputs": [
              {
                "output_type": "display_data",
                "data": {
                  "text/plain": "Sampling chain 0, 0 divergences \u001b[32m━━━━━━━━━━━━━━━━━━━━━━━━━━━━━━━━━━━━━━━━\u001b[0m \u001b[35m100%\u001b[0m \u001b[36m0:00:00\u001b[0m / \u001b[33m0:00:04\u001b[0m\n",
                  "text/html": "<pre style=\"white-space:pre;overflow-x:auto;line-height:normal;font-family:Menlo,'DejaVu Sans Mono',consolas,'Courier New',monospace\">Sampling chain 0, 0 divergences <span style=\"color: #008000; text-decoration-color: #008000\">━━━━━━━━━━━━━━━━━━━━━━━━━━━━━━━━━━━━━━━━</span> <span style=\"color: #800080; text-decoration-color: #800080\">100%</span> <span style=\"color: #008080; text-decoration-color: #008080\">0:00:00</span> / <span style=\"color: #808000; text-decoration-color: #808000\">0:00:04</span>\n</pre>\n"
                },
                "metadata": {}
              }
            ]
          }
        },
        "d701408073a041ea87963d464afcacf7": {
          "model_module": "@jupyter-widgets/base",
          "model_name": "LayoutModel",
          "model_module_version": "1.2.0",
          "state": {
            "_model_module": "@jupyter-widgets/base",
            "_model_module_version": "1.2.0",
            "_model_name": "LayoutModel",
            "_view_count": null,
            "_view_module": "@jupyter-widgets/base",
            "_view_module_version": "1.2.0",
            "_view_name": "LayoutView",
            "align_content": null,
            "align_items": null,
            "align_self": null,
            "border": null,
            "bottom": null,
            "display": null,
            "flex": null,
            "flex_flow": null,
            "grid_area": null,
            "grid_auto_columns": null,
            "grid_auto_flow": null,
            "grid_auto_rows": null,
            "grid_column": null,
            "grid_gap": null,
            "grid_row": null,
            "grid_template_areas": null,
            "grid_template_columns": null,
            "grid_template_rows": null,
            "height": null,
            "justify_content": null,
            "justify_items": null,
            "left": null,
            "margin": null,
            "max_height": null,
            "max_width": null,
            "min_height": null,
            "min_width": null,
            "object_fit": null,
            "object_position": null,
            "order": null,
            "overflow": null,
            "overflow_x": null,
            "overflow_y": null,
            "padding": null,
            "right": null,
            "top": null,
            "visibility": null,
            "width": null
          }
        },
        "9a9be3e0a1044722b443a3869dcc0f79": {
          "model_module": "@jupyter-widgets/output",
          "model_name": "OutputModel",
          "model_module_version": "1.0.0",
          "state": {
            "_dom_classes": [],
            "_model_module": "@jupyter-widgets/output",
            "_model_module_version": "1.0.0",
            "_model_name": "OutputModel",
            "_view_count": null,
            "_view_module": "@jupyter-widgets/output",
            "_view_module_version": "1.0.0",
            "_view_name": "OutputView",
            "layout": "IPY_MODEL_7382c201e5ce43efa3828fc4c0e461f7",
            "msg_id": "",
            "outputs": [
              {
                "output_type": "display_data",
                "data": {
                  "text/plain": "Sampling chain 1, 0 divergences \u001b[32m━━━━━━━━━━━━━━━━━━━━━━━━━━━━━━━━━━━━━━━━\u001b[0m \u001b[35m100%\u001b[0m \u001b[36m0:00:00\u001b[0m / \u001b[33m0:00:03\u001b[0m\n",
                  "text/html": "<pre style=\"white-space:pre;overflow-x:auto;line-height:normal;font-family:Menlo,'DejaVu Sans Mono',consolas,'Courier New',monospace\">Sampling chain 1, 0 divergences <span style=\"color: #008000; text-decoration-color: #008000\">━━━━━━━━━━━━━━━━━━━━━━━━━━━━━━━━━━━━━━━━</span> <span style=\"color: #800080; text-decoration-color: #800080\">100%</span> <span style=\"color: #008080; text-decoration-color: #008080\">0:00:00</span> / <span style=\"color: #808000; text-decoration-color: #808000\">0:00:03</span>\n</pre>\n"
                },
                "metadata": {}
              }
            ]
          }
        },
        "7382c201e5ce43efa3828fc4c0e461f7": {
          "model_module": "@jupyter-widgets/base",
          "model_name": "LayoutModel",
          "model_module_version": "1.2.0",
          "state": {
            "_model_module": "@jupyter-widgets/base",
            "_model_module_version": "1.2.0",
            "_model_name": "LayoutModel",
            "_view_count": null,
            "_view_module": "@jupyter-widgets/base",
            "_view_module_version": "1.2.0",
            "_view_name": "LayoutView",
            "align_content": null,
            "align_items": null,
            "align_self": null,
            "border": null,
            "bottom": null,
            "display": null,
            "flex": null,
            "flex_flow": null,
            "grid_area": null,
            "grid_auto_columns": null,
            "grid_auto_flow": null,
            "grid_auto_rows": null,
            "grid_column": null,
            "grid_gap": null,
            "grid_row": null,
            "grid_template_areas": null,
            "grid_template_columns": null,
            "grid_template_rows": null,
            "height": null,
            "justify_content": null,
            "justify_items": null,
            "left": null,
            "margin": null,
            "max_height": null,
            "max_width": null,
            "min_height": null,
            "min_width": null,
            "object_fit": null,
            "object_position": null,
            "order": null,
            "overflow": null,
            "overflow_x": null,
            "overflow_y": null,
            "padding": null,
            "right": null,
            "top": null,
            "visibility": null,
            "width": null
          }
        }
      }
    }
  },
  "cells": [
    {
      "cell_type": "markdown",
      "metadata": {
        "id": "view-in-github",
        "colab_type": "text"
      },
      "source": [
        "<a href=\"https://colab.research.google.com/github/codingiamnot/PMP-2024/blob/main/Examen/pmp_examen.ipynb\" target=\"_parent\"><img src=\"https://colab.research.google.com/assets/colab-badge.svg\" alt=\"Open In Colab\"/></a>"
      ]
    },
    {
      "cell_type": "code",
      "execution_count": 8,
      "metadata": {
        "colab": {
          "base_uri": "https://localhost:8080/"
        },
        "id": "vkwy5TgAU2Y7",
        "outputId": "5fbac129-d3c4-4145-a524-7903e0e1476d"
      },
      "outputs": [
        {
          "output_type": "stream",
          "name": "stdout",
          "text": [
            "     Varsta  Sex  Educatie  Venit  Vot\n",
            "0        45    1         0   8.06    1\n",
            "1        39    1         1   6.48    1\n",
            "2        46    1         1   5.48    1\n",
            "3        55    0         0   5.61    1\n",
            "4        38    1         1   5.86    1\n",
            "..      ...  ...       ...    ...  ...\n",
            "495      45    0         2   8.30    1\n",
            "496      30    0         1   3.97    0\n",
            "497      38    0         1   6.12    1\n",
            "498      31    1         2   6.86    1\n",
            "499      26    0         2   7.39    1\n",
            "\n",
            "[500 rows x 5 columns]\n"
          ]
        }
      ],
      "source": [
        "import pandas as pd\n",
        "import matplotlib.pyplot as plt\n",
        "import pymc as pm\n",
        "import numpy as np\n",
        "import arviz as az\n",
        "\n",
        "data = pd.read_csv(\"date_alegeri_turul2.csv\")\n",
        "print(data)\n",
        "age = np.array(data['Varsta'])\n",
        "sex = np.array(data['Sex'])\n",
        "educ = np.array(data['Educatie'])\n",
        "income = np.array(data['Venit'])\n",
        "vote = np.array(data['Vot'])"
      ]
    },
    {
      "cell_type": "code",
      "source": [
        "with pm.Model() as model1:\n",
        "  c_age = pm.Normal('c_age', mu=0, sigma=100)\n",
        "  c_sex = pm.Normal('c_sex', mu=0, sigma=100)\n",
        "  c_educ = pm.Normal('c_educ', mu=0, sigma=100)\n",
        "  c_income = pm.Normal('c_income', mu=0, sigma=100)\n",
        "  b = pm.Normal('b', mu=0, sigma=100)\n",
        "\n",
        "  vals = pm.Deterministic('vals', c_age * age\n",
        "                          + c_sex * sex\n",
        "                          + c_educ * educ\n",
        "                          + c_income * income\n",
        "                          + b)\n",
        "\n",
        "  p = pm.Deterministic('p', 1 / (1 + pm.math.exp(-vals)))\n",
        "  pred = pm.Bernoulli('pred', p=p, observed=vote)\n",
        "\n",
        "  i_data = pm.sample(2000, return_inferencedata=True)"
      ],
      "metadata": {
        "colab": {
          "base_uri": "https://localhost:8080/",
          "height": 104,
          "referenced_widgets": [
            "e59c8f7e0ade4a08bbfb9caf38c26c76",
            "e3be2458cfe546e592ea40a97d85be1e",
            "f62fb01644784e3dbff6cf61ae6a06ea",
            "c718c9438a4a4a6cadb0a5e284faa61a"
          ]
        },
        "id": "Nk-o5o4JaDOO",
        "outputId": "95b588c9-7833-4200-94ea-6e1250fc36ee"
      },
      "execution_count": 9,
      "outputs": [
        {
          "output_type": "display_data",
          "data": {
            "text/plain": [
              "Output()"
            ],
            "application/vnd.jupyter.widget-view+json": {
              "version_major": 2,
              "version_minor": 0,
              "model_id": "e59c8f7e0ade4a08bbfb9caf38c26c76"
            }
          },
          "metadata": {}
        },
        {
          "output_type": "display_data",
          "data": {
            "text/plain": [],
            "text/html": [
              "<pre style=\"white-space:pre;overflow-x:auto;line-height:normal;font-family:Menlo,'DejaVu Sans Mono',consolas,'Courier New',monospace\"></pre>\n"
            ]
          },
          "metadata": {}
        },
        {
          "output_type": "display_data",
          "data": {
            "text/plain": [
              "Output()"
            ],
            "application/vnd.jupyter.widget-view+json": {
              "version_major": 2,
              "version_minor": 0,
              "model_id": "f62fb01644784e3dbff6cf61ae6a06ea"
            }
          },
          "metadata": {}
        },
        {
          "output_type": "display_data",
          "data": {
            "text/plain": [],
            "text/html": [
              "<pre style=\"white-space:pre;overflow-x:auto;line-height:normal;font-family:Menlo,'DejaVu Sans Mono',consolas,'Courier New',monospace\"></pre>\n"
            ]
          },
          "metadata": {}
        },
        {
          "output_type": "stream",
          "name": "stderr",
          "text": [
            "ERROR:pymc.stats.convergence:There were 2000 divergences after tuning. Increase `target_accept` or reparameterize.\n",
            "ERROR:pymc.stats.convergence:The effective sample size per chain is smaller than 100 for some parameters.  A higher number is needed for reliable rhat and ess computation. See https://arxiv.org/abs/1903.08008 for details\n"
          ]
        }
      ]
    },
    {
      "cell_type": "code",
      "source": [
        "posterior_g = i_data.posterior.stack(samples={\"chain\", \"draw\"})\n",
        "\n",
        "ans_age = posterior_g['c_age'].mean().item()\n",
        "ans_sex = posterior_g['c_sex'].mean().item()\n",
        "ans_educ = posterior_g['c_educ'].mean().item()\n",
        "ans_income = posterior_g['c_income'].mean().item()\n",
        "\n",
        "print(ans_age / np.var(age), ans_sex / np.var(sex), ans_educ / np.var(educ), ans_income / np.var(income))"
      ],
      "metadata": {
        "colab": {
          "base_uri": "https://localhost:8080/"
        },
        "id": "y4_4tJQac7Pz",
        "outputId": "bdbd1b36-ae24-43f5-9802-9dcce160a35a"
      },
      "execution_count": 16,
      "outputs": [
        {
          "output_type": "stream",
          "name": "stdout",
          "text": [
            "0.00438192996064638 -0.7926972407081757 0.5174815661357233 -0.017372115595493415\n"
          ]
        }
      ]
    },
    {
      "cell_type": "markdown",
      "source": [
        "Cele mai relevante 2 atribute sunt sexul si educatia deoarece coeficentele lor normalizate au cea mai mare valoare absoluta."
      ],
      "metadata": {
        "id": "WPyt3JOYfCxg"
      }
    },
    {
      "cell_type": "code",
      "source": [
        "with pm.Model() as model2:\n",
        "  c_sex2 = pm.Normal('c_sex2', mu=0, sigma=100)\n",
        "  c_educ2 = pm.Normal('c_educ2', mu=0, sigma=100)\n",
        "  b2 = pm.Normal('b2', mu=0, sigma=100)\n",
        "\n",
        "  vals2 = pm.Deterministic('vals', c_sex2 * sex\n",
        "                          + c_educ2 * educ\n",
        "                          + b2)\n",
        "\n",
        "  p2 = pm.Deterministic('p2', 1 / (1 + pm.math.exp(-vals2)))\n",
        "  pred2 = pm.Bernoulli('pred2', p=p2, observed=vote)\n",
        "\n",
        "  i_data2 = pm.sample(2000, return_inferencedata=True)"
      ],
      "metadata": {
        "colab": {
          "base_uri": "https://localhost:8080/",
          "height": 49,
          "referenced_widgets": [
            "c8b9bfaf795c48ba9db500c0f95a702a",
            "d701408073a041ea87963d464afcacf7",
            "9a9be3e0a1044722b443a3869dcc0f79",
            "7382c201e5ce43efa3828fc4c0e461f7"
          ]
        },
        "id": "bZLKnEPRgMXU",
        "outputId": "d0b64954-92d1-4110-90bc-94ee8f9d598d"
      },
      "execution_count": 17,
      "outputs": [
        {
          "output_type": "display_data",
          "data": {
            "text/plain": [
              "Output()"
            ],
            "application/vnd.jupyter.widget-view+json": {
              "version_major": 2,
              "version_minor": 0,
              "model_id": "c8b9bfaf795c48ba9db500c0f95a702a"
            }
          },
          "metadata": {}
        },
        {
          "output_type": "display_data",
          "data": {
            "text/plain": [],
            "text/html": [
              "<pre style=\"white-space:pre;overflow-x:auto;line-height:normal;font-family:Menlo,'DejaVu Sans Mono',consolas,'Courier New',monospace\"></pre>\n"
            ]
          },
          "metadata": {}
        },
        {
          "output_type": "display_data",
          "data": {
            "text/plain": [
              "Output()"
            ],
            "application/vnd.jupyter.widget-view+json": {
              "version_major": 2,
              "version_minor": 0,
              "model_id": "9a9be3e0a1044722b443a3869dcc0f79"
            }
          },
          "metadata": {}
        },
        {
          "output_type": "display_data",
          "data": {
            "text/plain": [],
            "text/html": [
              "<pre style=\"white-space:pre;overflow-x:auto;line-height:normal;font-family:Menlo,'DejaVu Sans Mono',consolas,'Courier New',monospace\"></pre>\n"
            ]
          },
          "metadata": {}
        }
      ]
    },
    {
      "cell_type": "code",
      "source": [
        "sex_by_vote = [[sex[i] for i in range(len(sex)) if vote[i] == vote_val] for vote_val in range(2)]\n",
        "educ_by_vote = [[educ[i] for i in range(len(educ)) if vote[i] == vote_val] for vote_val in range(2)]\n",
        "\n",
        "plt.plot(sex_by_vote[0], educ_by_vote[0], \"ob\")\n",
        "plt.plot(sex_by_vote[1], educ_by_vote[1], \"og\")\n",
        "\n",
        "##aceste criterii nu sunt de ajuns deoarece exista persoane cu acelasi sex / nivel de educatie care au votat cu ambii candidati\n",
        "### putem vedea acest lucru din factul ca punctele albastre si verzi se suprapun"
      ],
      "metadata": {
        "colab": {
          "base_uri": "https://localhost:8080/",
          "height": 447
        },
        "id": "DKy_f4OHgz9z",
        "outputId": "5c358007-4289-457f-e1fc-bd81ee551204"
      },
      "execution_count": 21,
      "outputs": [
        {
          "output_type": "execute_result",
          "data": {
            "text/plain": [
              "[<matplotlib.lines.Line2D at 0x7d7a545f2dd0>]"
            ]
          },
          "metadata": {},
          "execution_count": 21
        },
        {
          "output_type": "display_data",
          "data": {
            "text/plain": [
              "<Figure size 640x480 with 1 Axes>"
            ],
            "image/png": "[encoded data removed]"
          },
          "metadata": {}
        }
      ]
    },
    {
      "cell_type": "code",
      "source": [
        "#pm.compute_log_likelihood(i_data,model=model1)\n",
        "##am pus in comments pentru ca imi da eroare ca e deja calculat\n",
        "waic1 = az.waic(i_data, scale=\"deviance\")\n",
        "\n",
        "#pm.compute_log_likelihood(i_data2,model=model2)\n",
        "waic2 = az.waic(i_data2, scale=\"deviance\")\n",
        "\n",
        "print(waic1, waic2)\n",
        "\n",
        "##al doilea model are waic mai mic -> este mai bun"
      ],
      "metadata": {
        "colab": {
          "base_uri": "https://localhost:8080/"
        },
        "id": "u-q3IHg5j8XA",
        "outputId": "f1901fc7-a9bd-4758-c050-c9c5ba87b861"
      },
      "execution_count": 25,
      "outputs": [
        {
          "output_type": "stream",
          "name": "stdout",
          "text": [
            "Computed from 4000 posterior samples and 500 observations log-likelihood matrix.\n",
            "\n",
            "              Estimate       SE\n",
            "deviance_waic 42110.71  4249.88\n",
            "p_waic        20821.46        -\n",
            "\n",
            "There has been a warning during the calculation. Please check the results. Computed from 4000 posterior samples and 500 observations log-likelihood matrix.\n",
            "\n",
            "              Estimate       SE\n",
            "deviance_waic   485.39    25.10\n",
            "p_waic            2.99        -\n"
          ]
        },
        {
          "output_type": "stream",
          "name": "stderr",
          "text": [
            "/usr/local/lib/python3.11/dist-packages/arviz/stats/stats.py:1653: UserWarning: For one or more samples the posterior variance of the log predictive densities exceeds 0.4. This could be indication of WAIC starting to fail. \n",
            "See http://arxiv.org/abs/1507.04544 for details\n",
            "  warnings.warn(\n"
          ]
        }
      ]
    },
    {
      "cell_type": "markdown",
      "source": [
        "subiectul 2, punctul b\n",
        "\n",
        "Pentru a decide care caracteristica separa cel mai bine datele ne putem uita la mediile / medianele clusterelor formate si sa alegem modelul unde acestea sunt cat mai departate unele de altele. Acest lucru ne indica ca clusterele create sunt distincte, ceea ce implica ca criteriul ales este descriptiv."
      ],
      "metadata": {
        "id": "66GAClxAizRf"
      }
    }
  ]
}